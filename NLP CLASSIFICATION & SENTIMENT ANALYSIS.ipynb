{
 "cells": [
  {
   "cell_type": "code",
   "execution_count": 1,
   "id": "09db0637",
   "metadata": {},
   "outputs": [],
   "source": [
    "#we will make sentiment analysis in this notebook"
   ]
  },
  {
   "cell_type": "code",
   "execution_count": 65,
   "id": "62c707b5",
   "metadata": {},
   "outputs": [],
   "source": [
    "import pandas as pd\n",
    "from sklearn.model_selection import train_test_split\n",
    "from sklearn.linear_model import LogisticRegression\n",
    "from sklearn.naive_bayes import MultinomialNB\n",
    "from sklearn.metrics import accuracy_score, confusion_matrix, classification_report\n",
    "from sklearn.feature_extraction.text import CountVectorizer, TfidfVectorizer\n",
    "from textblob import TextBlob, Word\n",
    "from nltk.stem.snowball import SnowballStemmer\n",
    "import seaborn as sns\n",
    "from sklearn.utils import resample\n",
    "from sklearn.feature_extraction.text import CountVectorizer\n",
    "\n",
    "import warnings \n",
    "warnings.filterwarnings(\"ignore\")"
   ]
  },
  {
   "cell_type": "code",
   "execution_count": 3,
   "id": "734346cb",
   "metadata": {},
   "outputs": [],
   "source": [
    "#read the data"
   ]
  },
  {
   "cell_type": "code",
   "execution_count": 4,
   "id": "3a43c577",
   "metadata": {},
   "outputs": [],
   "source": [
    "data=pd.read_csv(\"restaurant.csv\")"
   ]
  },
  {
   "cell_type": "code",
   "execution_count": 5,
   "id": "e19f1c88",
   "metadata": {},
   "outputs": [],
   "source": [
    "#see first 5 cells"
   ]
  },
  {
   "cell_type": "code",
   "execution_count": 6,
   "id": "1b03294d",
   "metadata": {},
   "outputs": [
    {
     "data": {
      "text/html": [
       "<div>\n",
       "<style scoped>\n",
       "    .dataframe tbody tr th:only-of-type {\n",
       "        vertical-align: middle;\n",
       "    }\n",
       "\n",
       "    .dataframe tbody tr th {\n",
       "        vertical-align: top;\n",
       "    }\n",
       "\n",
       "    .dataframe thead th {\n",
       "        text-align: right;\n",
       "    }\n",
       "</style>\n",
       "<table border=\"1\" class=\"dataframe\">\n",
       "  <thead>\n",
       "    <tr style=\"text-align: right;\">\n",
       "      <th></th>\n",
       "      <th>Unnamed: 0</th>\n",
       "      <th>review_id</th>\n",
       "      <th>user_id</th>\n",
       "      <th>business_id</th>\n",
       "      <th>stars</th>\n",
       "      <th>useful</th>\n",
       "      <th>funny</th>\n",
       "      <th>cool</th>\n",
       "      <th>text</th>\n",
       "      <th>date</th>\n",
       "    </tr>\n",
       "  </thead>\n",
       "  <tbody>\n",
       "    <tr>\n",
       "      <th>0</th>\n",
       "      <td>2370338</td>\n",
       "      <td>_WTGv5XnA-qb_XD1D7Z0jg</td>\n",
       "      <td>6PgdGb3HrZdsfl2GiULo8w</td>\n",
       "      <td>RESDUcs7fIiihp38-d6_6g</td>\n",
       "      <td>5</td>\n",
       "      <td>0</td>\n",
       "      <td>1</td>\n",
       "      <td>0</td>\n",
       "      <td>After getting food poisoning at the Palms hote...</td>\n",
       "      <td>2012-12-04 03:10:18</td>\n",
       "    </tr>\n",
       "    <tr>\n",
       "      <th>1</th>\n",
       "      <td>2370357</td>\n",
       "      <td>JlNnsvMPLK_1-X2hwzK24w</td>\n",
       "      <td>IS9yw8P2uAPBX6FNLLX4KA</td>\n",
       "      <td>RESDUcs7fIiihp38-d6_6g</td>\n",
       "      <td>4</td>\n",
       "      <td>39</td>\n",
       "      <td>21</td>\n",
       "      <td>29</td>\n",
       "      <td>\"A feast worthy of Gods\"\\n\\nBaccarnal Buffet i...</td>\n",
       "      <td>2014-01-17 00:50:50</td>\n",
       "    </tr>\n",
       "    <tr>\n",
       "      <th>2</th>\n",
       "      <td>2370373</td>\n",
       "      <td>hBkoWffORRb6aqKhC_Li2A</td>\n",
       "      <td>uZdFsE_aHbFBChgN6Xa8tw</td>\n",
       "      <td>RESDUcs7fIiihp38-d6_6g</td>\n",
       "      <td>4</td>\n",
       "      <td>1</td>\n",
       "      <td>1</td>\n",
       "      <td>1</td>\n",
       "      <td>The crab legs are better than the ones at Wick...</td>\n",
       "      <td>2015-06-08 18:03:09</td>\n",
       "    </tr>\n",
       "    <tr>\n",
       "      <th>3</th>\n",
       "      <td>2370411</td>\n",
       "      <td>rbkxvrgZg5kdCL2a66QYmA</td>\n",
       "      <td>8ZWJNAEWsymXDzKx3B0tTQ</td>\n",
       "      <td>RESDUcs7fIiihp38-d6_6g</td>\n",
       "      <td>1</td>\n",
       "      <td>0</td>\n",
       "      <td>0</td>\n",
       "      <td>0</td>\n",
       "      <td>Not worth it! Too salty food and expensive! Th...</td>\n",
       "      <td>2016-12-19 16:15:29</td>\n",
       "    </tr>\n",
       "    <tr>\n",
       "      <th>4</th>\n",
       "      <td>2370500</td>\n",
       "      <td>5tw_pedoHVi9bgeiBNsISg</td>\n",
       "      <td>E0sm4Ve7ifanFYeQMcV8Eg</td>\n",
       "      <td>RESDUcs7fIiihp38-d6_6g</td>\n",
       "      <td>5</td>\n",
       "      <td>0</td>\n",
       "      <td>0</td>\n",
       "      <td>0</td>\n",
       "      <td>I would give this infinite stars if I could. M...</td>\n",
       "      <td>2015-07-28 07:13:17</td>\n",
       "    </tr>\n",
       "  </tbody>\n",
       "</table>\n",
       "</div>"
      ],
      "text/plain": [
       "   Unnamed: 0               review_id                 user_id  \\\n",
       "0     2370338  _WTGv5XnA-qb_XD1D7Z0jg  6PgdGb3HrZdsfl2GiULo8w   \n",
       "1     2370357  JlNnsvMPLK_1-X2hwzK24w  IS9yw8P2uAPBX6FNLLX4KA   \n",
       "2     2370373  hBkoWffORRb6aqKhC_Li2A  uZdFsE_aHbFBChgN6Xa8tw   \n",
       "3     2370411  rbkxvrgZg5kdCL2a66QYmA  8ZWJNAEWsymXDzKx3B0tTQ   \n",
       "4     2370500  5tw_pedoHVi9bgeiBNsISg  E0sm4Ve7ifanFYeQMcV8Eg   \n",
       "\n",
       "              business_id  stars  useful  funny  cool  \\\n",
       "0  RESDUcs7fIiihp38-d6_6g      5       0      1     0   \n",
       "1  RESDUcs7fIiihp38-d6_6g      4      39     21    29   \n",
       "2  RESDUcs7fIiihp38-d6_6g      4       1      1     1   \n",
       "3  RESDUcs7fIiihp38-d6_6g      1       0      0     0   \n",
       "4  RESDUcs7fIiihp38-d6_6g      5       0      0     0   \n",
       "\n",
       "                                                text                 date  \n",
       "0  After getting food poisoning at the Palms hote...  2012-12-04 03:10:18  \n",
       "1  \"A feast worthy of Gods\"\\n\\nBaccarnal Buffet i...  2014-01-17 00:50:50  \n",
       "2  The crab legs are better than the ones at Wick...  2015-06-08 18:03:09  \n",
       "3  Not worth it! Too salty food and expensive! Th...  2016-12-19 16:15:29  \n",
       "4  I would give this infinite stars if I could. M...  2015-07-28 07:13:17  "
      ]
     },
     "execution_count": 6,
     "metadata": {},
     "output_type": "execute_result"
    }
   ],
   "source": [
    "data.head()"
   ]
  },
  {
   "cell_type": "code",
   "execution_count": 7,
   "id": "75493364",
   "metadata": {},
   "outputs": [],
   "source": [
    "#see unique stars values"
   ]
  },
  {
   "cell_type": "code",
   "execution_count": 8,
   "id": "85f9bd3b",
   "metadata": {},
   "outputs": [
    {
     "data": {
      "text/plain": [
       "array([5, 4, 1, 3, 2], dtype=int64)"
      ]
     },
     "execution_count": 8,
     "metadata": {},
     "output_type": "execute_result"
    }
   ],
   "source": [
    "data[\"stars\"].unique()"
   ]
  },
  {
   "cell_type": "code",
   "execution_count": 9,
   "id": "b2891b31",
   "metadata": {},
   "outputs": [],
   "source": [
    "# we make 5,4 is positive 1,2 is negative drop 3 stars because we only intense positive or negative"
   ]
  },
  {
   "cell_type": "code",
   "execution_count": 10,
   "id": "8bc1e250",
   "metadata": {},
   "outputs": [],
   "source": [
    "#first drop 3 stars texts"
   ]
  },
  {
   "cell_type": "code",
   "execution_count": 11,
   "id": "d8faea10",
   "metadata": {},
   "outputs": [],
   "source": [
    "data = data.drop(data[data[\"stars\"] == data[\"stars\"][3]].index, axis=0)"
   ]
  },
  {
   "cell_type": "code",
   "execution_count": 12,
   "id": "dd21b92c",
   "metadata": {},
   "outputs": [],
   "source": [
    "#make  5,4 is positive--> (1)     1,2 is negative--> (0)"
   ]
  },
  {
   "cell_type": "code",
   "execution_count": 13,
   "id": "2f3571be",
   "metadata": {},
   "outputs": [],
   "source": [
    "data[\"Label\"] = data[\"stars\"].map({1: 0, 2: 0, 5: 1, 4: 1})"
   ]
  },
  {
   "cell_type": "code",
   "execution_count": 14,
   "id": "3669f84d",
   "metadata": {},
   "outputs": [],
   "source": [
    "#check"
   ]
  },
  {
   "cell_type": "code",
   "execution_count": 15,
   "id": "dc6ab4a8",
   "metadata": {},
   "outputs": [
    {
     "data": {
      "text/html": [
       "<div>\n",
       "<style scoped>\n",
       "    .dataframe tbody tr th:only-of-type {\n",
       "        vertical-align: middle;\n",
       "    }\n",
       "\n",
       "    .dataframe tbody tr th {\n",
       "        vertical-align: top;\n",
       "    }\n",
       "\n",
       "    .dataframe thead th {\n",
       "        text-align: right;\n",
       "    }\n",
       "</style>\n",
       "<table border=\"1\" class=\"dataframe\">\n",
       "  <thead>\n",
       "    <tr style=\"text-align: right;\">\n",
       "      <th></th>\n",
       "      <th>Unnamed: 0</th>\n",
       "      <th>review_id</th>\n",
       "      <th>user_id</th>\n",
       "      <th>business_id</th>\n",
       "      <th>stars</th>\n",
       "      <th>useful</th>\n",
       "      <th>funny</th>\n",
       "      <th>cool</th>\n",
       "      <th>text</th>\n",
       "      <th>date</th>\n",
       "      <th>Label</th>\n",
       "    </tr>\n",
       "  </thead>\n",
       "  <tbody>\n",
       "    <tr>\n",
       "      <th>0</th>\n",
       "      <td>2370338</td>\n",
       "      <td>_WTGv5XnA-qb_XD1D7Z0jg</td>\n",
       "      <td>6PgdGb3HrZdsfl2GiULo8w</td>\n",
       "      <td>RESDUcs7fIiihp38-d6_6g</td>\n",
       "      <td>5</td>\n",
       "      <td>0</td>\n",
       "      <td>1</td>\n",
       "      <td>0</td>\n",
       "      <td>After getting food poisoning at the Palms hote...</td>\n",
       "      <td>2012-12-04 03:10:18</td>\n",
       "      <td>1.0</td>\n",
       "    </tr>\n",
       "    <tr>\n",
       "      <th>1</th>\n",
       "      <td>2370357</td>\n",
       "      <td>JlNnsvMPLK_1-X2hwzK24w</td>\n",
       "      <td>IS9yw8P2uAPBX6FNLLX4KA</td>\n",
       "      <td>RESDUcs7fIiihp38-d6_6g</td>\n",
       "      <td>4</td>\n",
       "      <td>39</td>\n",
       "      <td>21</td>\n",
       "      <td>29</td>\n",
       "      <td>\"A feast worthy of Gods\"\\n\\nBaccarnal Buffet i...</td>\n",
       "      <td>2014-01-17 00:50:50</td>\n",
       "      <td>1.0</td>\n",
       "    </tr>\n",
       "    <tr>\n",
       "      <th>2</th>\n",
       "      <td>2370373</td>\n",
       "      <td>hBkoWffORRb6aqKhC_Li2A</td>\n",
       "      <td>uZdFsE_aHbFBChgN6Xa8tw</td>\n",
       "      <td>RESDUcs7fIiihp38-d6_6g</td>\n",
       "      <td>4</td>\n",
       "      <td>1</td>\n",
       "      <td>1</td>\n",
       "      <td>1</td>\n",
       "      <td>The crab legs are better than the ones at Wick...</td>\n",
       "      <td>2015-06-08 18:03:09</td>\n",
       "      <td>1.0</td>\n",
       "    </tr>\n",
       "    <tr>\n",
       "      <th>4</th>\n",
       "      <td>2370500</td>\n",
       "      <td>5tw_pedoHVi9bgeiBNsISg</td>\n",
       "      <td>E0sm4Ve7ifanFYeQMcV8Eg</td>\n",
       "      <td>RESDUcs7fIiihp38-d6_6g</td>\n",
       "      <td>5</td>\n",
       "      <td>0</td>\n",
       "      <td>0</td>\n",
       "      <td>0</td>\n",
       "      <td>I would give this infinite stars if I could. M...</td>\n",
       "      <td>2015-07-28 07:13:17</td>\n",
       "      <td>1.0</td>\n",
       "    </tr>\n",
       "    <tr>\n",
       "      <th>5</th>\n",
       "      <td>2370586</td>\n",
       "      <td>gmZJrnsIpYIrhPBsaAVjIw</td>\n",
       "      <td>mCHQQxluggGNYOKqpiR94g</td>\n",
       "      <td>RESDUcs7fIiihp38-d6_6g</td>\n",
       "      <td>5</td>\n",
       "      <td>0</td>\n",
       "      <td>0</td>\n",
       "      <td>0</td>\n",
       "      <td>Really enjoyed everything they had to offer. I...</td>\n",
       "      <td>2015-04-01 16:18:34</td>\n",
       "      <td>1.0</td>\n",
       "    </tr>\n",
       "  </tbody>\n",
       "</table>\n",
       "</div>"
      ],
      "text/plain": [
       "   Unnamed: 0               review_id                 user_id  \\\n",
       "0     2370338  _WTGv5XnA-qb_XD1D7Z0jg  6PgdGb3HrZdsfl2GiULo8w   \n",
       "1     2370357  JlNnsvMPLK_1-X2hwzK24w  IS9yw8P2uAPBX6FNLLX4KA   \n",
       "2     2370373  hBkoWffORRb6aqKhC_Li2A  uZdFsE_aHbFBChgN6Xa8tw   \n",
       "4     2370500  5tw_pedoHVi9bgeiBNsISg  E0sm4Ve7ifanFYeQMcV8Eg   \n",
       "5     2370586  gmZJrnsIpYIrhPBsaAVjIw  mCHQQxluggGNYOKqpiR94g   \n",
       "\n",
       "              business_id  stars  useful  funny  cool  \\\n",
       "0  RESDUcs7fIiihp38-d6_6g      5       0      1     0   \n",
       "1  RESDUcs7fIiihp38-d6_6g      4      39     21    29   \n",
       "2  RESDUcs7fIiihp38-d6_6g      4       1      1     1   \n",
       "4  RESDUcs7fIiihp38-d6_6g      5       0      0     0   \n",
       "5  RESDUcs7fIiihp38-d6_6g      5       0      0     0   \n",
       "\n",
       "                                                text                 date  \\\n",
       "0  After getting food poisoning at the Palms hote...  2012-12-04 03:10:18   \n",
       "1  \"A feast worthy of Gods\"\\n\\nBaccarnal Buffet i...  2014-01-17 00:50:50   \n",
       "2  The crab legs are better than the ones at Wick...  2015-06-08 18:03:09   \n",
       "4  I would give this infinite stars if I could. M...  2015-07-28 07:13:17   \n",
       "5  Really enjoyed everything they had to offer. I...  2015-04-01 16:18:34   \n",
       "\n",
       "   Label  \n",
       "0    1.0  \n",
       "1    1.0  \n",
       "2    1.0  \n",
       "4    1.0  \n",
       "5    1.0  "
      ]
     },
     "execution_count": 15,
     "metadata": {},
     "output_type": "execute_result"
    }
   ],
   "source": [
    "data.head()"
   ]
  },
  {
   "cell_type": "code",
   "execution_count": 16,
   "id": "81f34215",
   "metadata": {},
   "outputs": [],
   "source": [
    "#NLP preprocessing"
   ]
  },
  {
   "cell_type": "code",
   "execution_count": 17,
   "id": "b1895a15",
   "metadata": {},
   "outputs": [],
   "source": [
    "#lower all "
   ]
  },
  {
   "cell_type": "code",
   "execution_count": 18,
   "id": "7b6ebe56",
   "metadata": {},
   "outputs": [],
   "source": [
    "data[\"text\"]=data[\"text\"].str.lower()"
   ]
  },
  {
   "cell_type": "code",
   "execution_count": 19,
   "id": "5b67209c",
   "metadata": {},
   "outputs": [],
   "source": [
    "#check"
   ]
  },
  {
   "cell_type": "code",
   "execution_count": 20,
   "id": "cd6de71a",
   "metadata": {},
   "outputs": [
    {
     "data": {
      "text/html": [
       "<div>\n",
       "<style scoped>\n",
       "    .dataframe tbody tr th:only-of-type {\n",
       "        vertical-align: middle;\n",
       "    }\n",
       "\n",
       "    .dataframe tbody tr th {\n",
       "        vertical-align: top;\n",
       "    }\n",
       "\n",
       "    .dataframe thead th {\n",
       "        text-align: right;\n",
       "    }\n",
       "</style>\n",
       "<table border=\"1\" class=\"dataframe\">\n",
       "  <thead>\n",
       "    <tr style=\"text-align: right;\">\n",
       "      <th></th>\n",
       "      <th>Unnamed: 0</th>\n",
       "      <th>review_id</th>\n",
       "      <th>user_id</th>\n",
       "      <th>business_id</th>\n",
       "      <th>stars</th>\n",
       "      <th>useful</th>\n",
       "      <th>funny</th>\n",
       "      <th>cool</th>\n",
       "      <th>text</th>\n",
       "      <th>date</th>\n",
       "      <th>Label</th>\n",
       "    </tr>\n",
       "  </thead>\n",
       "  <tbody>\n",
       "    <tr>\n",
       "      <th>0</th>\n",
       "      <td>2370338</td>\n",
       "      <td>_WTGv5XnA-qb_XD1D7Z0jg</td>\n",
       "      <td>6PgdGb3HrZdsfl2GiULo8w</td>\n",
       "      <td>RESDUcs7fIiihp38-d6_6g</td>\n",
       "      <td>5</td>\n",
       "      <td>0</td>\n",
       "      <td>1</td>\n",
       "      <td>0</td>\n",
       "      <td>after getting food poisoning at the palms hote...</td>\n",
       "      <td>2012-12-04 03:10:18</td>\n",
       "      <td>1.0</td>\n",
       "    </tr>\n",
       "    <tr>\n",
       "      <th>1</th>\n",
       "      <td>2370357</td>\n",
       "      <td>JlNnsvMPLK_1-X2hwzK24w</td>\n",
       "      <td>IS9yw8P2uAPBX6FNLLX4KA</td>\n",
       "      <td>RESDUcs7fIiihp38-d6_6g</td>\n",
       "      <td>4</td>\n",
       "      <td>39</td>\n",
       "      <td>21</td>\n",
       "      <td>29</td>\n",
       "      <td>\"a feast worthy of gods\"\\n\\nbaccarnal buffet i...</td>\n",
       "      <td>2014-01-17 00:50:50</td>\n",
       "      <td>1.0</td>\n",
       "    </tr>\n",
       "    <tr>\n",
       "      <th>2</th>\n",
       "      <td>2370373</td>\n",
       "      <td>hBkoWffORRb6aqKhC_Li2A</td>\n",
       "      <td>uZdFsE_aHbFBChgN6Xa8tw</td>\n",
       "      <td>RESDUcs7fIiihp38-d6_6g</td>\n",
       "      <td>4</td>\n",
       "      <td>1</td>\n",
       "      <td>1</td>\n",
       "      <td>1</td>\n",
       "      <td>the crab legs are better than the ones at wick...</td>\n",
       "      <td>2015-06-08 18:03:09</td>\n",
       "      <td>1.0</td>\n",
       "    </tr>\n",
       "    <tr>\n",
       "      <th>4</th>\n",
       "      <td>2370500</td>\n",
       "      <td>5tw_pedoHVi9bgeiBNsISg</td>\n",
       "      <td>E0sm4Ve7ifanFYeQMcV8Eg</td>\n",
       "      <td>RESDUcs7fIiihp38-d6_6g</td>\n",
       "      <td>5</td>\n",
       "      <td>0</td>\n",
       "      <td>0</td>\n",
       "      <td>0</td>\n",
       "      <td>i would give this infinite stars if i could. m...</td>\n",
       "      <td>2015-07-28 07:13:17</td>\n",
       "      <td>1.0</td>\n",
       "    </tr>\n",
       "    <tr>\n",
       "      <th>5</th>\n",
       "      <td>2370586</td>\n",
       "      <td>gmZJrnsIpYIrhPBsaAVjIw</td>\n",
       "      <td>mCHQQxluggGNYOKqpiR94g</td>\n",
       "      <td>RESDUcs7fIiihp38-d6_6g</td>\n",
       "      <td>5</td>\n",
       "      <td>0</td>\n",
       "      <td>0</td>\n",
       "      <td>0</td>\n",
       "      <td>really enjoyed everything they had to offer. i...</td>\n",
       "      <td>2015-04-01 16:18:34</td>\n",
       "      <td>1.0</td>\n",
       "    </tr>\n",
       "  </tbody>\n",
       "</table>\n",
       "</div>"
      ],
      "text/plain": [
       "   Unnamed: 0               review_id                 user_id  \\\n",
       "0     2370338  _WTGv5XnA-qb_XD1D7Z0jg  6PgdGb3HrZdsfl2GiULo8w   \n",
       "1     2370357  JlNnsvMPLK_1-X2hwzK24w  IS9yw8P2uAPBX6FNLLX4KA   \n",
       "2     2370373  hBkoWffORRb6aqKhC_Li2A  uZdFsE_aHbFBChgN6Xa8tw   \n",
       "4     2370500  5tw_pedoHVi9bgeiBNsISg  E0sm4Ve7ifanFYeQMcV8Eg   \n",
       "5     2370586  gmZJrnsIpYIrhPBsaAVjIw  mCHQQxluggGNYOKqpiR94g   \n",
       "\n",
       "              business_id  stars  useful  funny  cool  \\\n",
       "0  RESDUcs7fIiihp38-d6_6g      5       0      1     0   \n",
       "1  RESDUcs7fIiihp38-d6_6g      4      39     21    29   \n",
       "2  RESDUcs7fIiihp38-d6_6g      4       1      1     1   \n",
       "4  RESDUcs7fIiihp38-d6_6g      5       0      0     0   \n",
       "5  RESDUcs7fIiihp38-d6_6g      5       0      0     0   \n",
       "\n",
       "                                                text                 date  \\\n",
       "0  after getting food poisoning at the palms hote...  2012-12-04 03:10:18   \n",
       "1  \"a feast worthy of gods\"\\n\\nbaccarnal buffet i...  2014-01-17 00:50:50   \n",
       "2  the crab legs are better than the ones at wick...  2015-06-08 18:03:09   \n",
       "4  i would give this infinite stars if i could. m...  2015-07-28 07:13:17   \n",
       "5  really enjoyed everything they had to offer. i...  2015-04-01 16:18:34   \n",
       "\n",
       "   Label  \n",
       "0    1.0  \n",
       "1    1.0  \n",
       "2    1.0  \n",
       "4    1.0  \n",
       "5    1.0  "
      ]
     },
     "execution_count": 20,
     "metadata": {},
     "output_type": "execute_result"
    }
   ],
   "source": [
    "data.head()"
   ]
  },
  {
   "cell_type": "code",
   "execution_count": 21,
   "id": "1eaab611",
   "metadata": {},
   "outputs": [],
   "source": [
    "#take text and star columns"
   ]
  },
  {
   "cell_type": "code",
   "execution_count": 22,
   "id": "51bb6016",
   "metadata": {},
   "outputs": [],
   "source": [
    "df = pd.DataFrame()\n",
    "#drop na from 3 stars\n",
    "data.dropna(inplace=True)\n",
    "df[\"text\"] = data[\"text\"]\n",
    "df[\"label\"] = data[\"Label\"].astype(\"int32\")"
   ]
  },
  {
   "cell_type": "code",
   "execution_count": 23,
   "id": "987fc0af",
   "metadata": {},
   "outputs": [],
   "source": [
    "#cehck"
   ]
  },
  {
   "cell_type": "code",
   "execution_count": 24,
   "id": "bb140dd7",
   "metadata": {},
   "outputs": [
    {
     "data": {
      "text/html": [
       "<div>\n",
       "<style scoped>\n",
       "    .dataframe tbody tr th:only-of-type {\n",
       "        vertical-align: middle;\n",
       "    }\n",
       "\n",
       "    .dataframe tbody tr th {\n",
       "        vertical-align: top;\n",
       "    }\n",
       "\n",
       "    .dataframe thead th {\n",
       "        text-align: right;\n",
       "    }\n",
       "</style>\n",
       "<table border=\"1\" class=\"dataframe\">\n",
       "  <thead>\n",
       "    <tr style=\"text-align: right;\">\n",
       "      <th></th>\n",
       "      <th>text</th>\n",
       "      <th>label</th>\n",
       "    </tr>\n",
       "  </thead>\n",
       "  <tbody>\n",
       "    <tr>\n",
       "      <th>0</th>\n",
       "      <td>after getting food poisoning at the palms hote...</td>\n",
       "      <td>1</td>\n",
       "    </tr>\n",
       "    <tr>\n",
       "      <th>1</th>\n",
       "      <td>\"a feast worthy of gods\"\\n\\nbaccarnal buffet i...</td>\n",
       "      <td>1</td>\n",
       "    </tr>\n",
       "    <tr>\n",
       "      <th>2</th>\n",
       "      <td>the crab legs are better than the ones at wick...</td>\n",
       "      <td>1</td>\n",
       "    </tr>\n",
       "    <tr>\n",
       "      <th>4</th>\n",
       "      <td>i would give this infinite stars if i could. m...</td>\n",
       "      <td>1</td>\n",
       "    </tr>\n",
       "    <tr>\n",
       "      <th>5</th>\n",
       "      <td>really enjoyed everything they had to offer. i...</td>\n",
       "      <td>1</td>\n",
       "    </tr>\n",
       "  </tbody>\n",
       "</table>\n",
       "</div>"
      ],
      "text/plain": [
       "                                                text  label\n",
       "0  after getting food poisoning at the palms hote...      1\n",
       "1  \"a feast worthy of gods\"\\n\\nbaccarnal buffet i...      1\n",
       "2  the crab legs are better than the ones at wick...      1\n",
       "4  i would give this infinite stars if i could. m...      1\n",
       "5  really enjoyed everything they had to offer. i...      1"
      ]
     },
     "execution_count": 24,
     "metadata": {},
     "output_type": "execute_result"
    }
   ],
   "source": [
    "df.head()"
   ]
  },
  {
   "cell_type": "code",
   "execution_count": 25,
   "id": "4383a419",
   "metadata": {},
   "outputs": [],
   "source": [
    "# character preprocesing"
   ]
  },
  {
   "cell_type": "code",
   "execution_count": 26,
   "id": "e3d02225",
   "metadata": {},
   "outputs": [],
   "source": [
    "df['text']=df['text'].str.lower() #convert to lowercase\n",
    "df['text']=df['text'].str.replace('[^\\w\\s]','') #remove punctuation\n",
    "df['text']=df['text'].str.replace('\\d+','') # destroy the numbers\n",
    "df['text']=df['text'].str.replace('\\n','').replace('\\r','') # Removed new line and enter presses"
   ]
  },
  {
   "cell_type": "code",
   "execution_count": 27,
   "id": "d988f1d9",
   "metadata": {},
   "outputs": [],
   "source": [
    "#check"
   ]
  },
  {
   "cell_type": "code",
   "execution_count": 28,
   "id": "e10c7415",
   "metadata": {},
   "outputs": [
    {
     "data": {
      "text/html": [
       "<div>\n",
       "<style scoped>\n",
       "    .dataframe tbody tr th:only-of-type {\n",
       "        vertical-align: middle;\n",
       "    }\n",
       "\n",
       "    .dataframe tbody tr th {\n",
       "        vertical-align: top;\n",
       "    }\n",
       "\n",
       "    .dataframe thead th {\n",
       "        text-align: right;\n",
       "    }\n",
       "</style>\n",
       "<table border=\"1\" class=\"dataframe\">\n",
       "  <thead>\n",
       "    <tr style=\"text-align: right;\">\n",
       "      <th></th>\n",
       "      <th>text</th>\n",
       "      <th>label</th>\n",
       "    </tr>\n",
       "  </thead>\n",
       "  <tbody>\n",
       "    <tr>\n",
       "      <th>0</th>\n",
       "      <td>after getting food poisoning at the palms hote...</td>\n",
       "      <td>1</td>\n",
       "    </tr>\n",
       "    <tr>\n",
       "      <th>1</th>\n",
       "      <td>a feast worthy of godsbaccarnal buffet in caes...</td>\n",
       "      <td>1</td>\n",
       "    </tr>\n",
       "    <tr>\n",
       "      <th>2</th>\n",
       "      <td>the crab legs are better than the ones at wick...</td>\n",
       "      <td>1</td>\n",
       "    </tr>\n",
       "    <tr>\n",
       "      <th>4</th>\n",
       "      <td>i would give this infinite stars if i could my...</td>\n",
       "      <td>1</td>\n",
       "    </tr>\n",
       "    <tr>\n",
       "      <th>5</th>\n",
       "      <td>really enjoyed everything they had to offer it...</td>\n",
       "      <td>1</td>\n",
       "    </tr>\n",
       "  </tbody>\n",
       "</table>\n",
       "</div>"
      ],
      "text/plain": [
       "                                                text  label\n",
       "0  after getting food poisoning at the palms hote...      1\n",
       "1  a feast worthy of godsbaccarnal buffet in caes...      1\n",
       "2  the crab legs are better than the ones at wick...      1\n",
       "4  i would give this infinite stars if i could my...      1\n",
       "5  really enjoyed everything they had to offer it...      1"
      ]
     },
     "execution_count": 28,
     "metadata": {},
     "output_type": "execute_result"
    }
   ],
   "source": [
    "df.head()"
   ]
  },
  {
   "cell_type": "code",
   "execution_count": 29,
   "id": "80c09dad",
   "metadata": {},
   "outputs": [],
   "source": [
    "#data visualizamon"
   ]
  },
  {
   "cell_type": "code",
   "execution_count": 30,
   "id": "6f5c2270",
   "metadata": {},
   "outputs": [
    {
     "data": {
      "image/png": "[encoded data removed]",
      "text/plain": [
       "<Figure size 640x480 with 1 Axes>"
      ]
     },
     "metadata": {},
     "output_type": "display_data"
    }
   ],
   "source": [
    "sns.countplot(x=df[\"label\"]);"
   ]
  },
  {
   "cell_type": "code",
   "execution_count": 31,
   "id": "23eb73cb",
   "metadata": {},
   "outputs": [],
   "source": [
    "#under sampling   (to 1)"
   ]
  },
  {
   "cell_type": "code",
   "execution_count": 33,
   "id": "4418ca73",
   "metadata": {},
   "outputs": [],
   "source": [
    "df_0 = df[df.label==0]     # MINORITY\n",
    "df_1 = df[df.label==1]     # MAJORITY\n",
    "\n",
    "df_downsampled = df[df.label==1].sample(n=1000).reset_index(drop=True)"
   ]
  },
  {
   "cell_type": "code",
   "execution_count": 40,
   "id": "3ba7bdd7",
   "metadata": {},
   "outputs": [],
   "source": [
    "#merge data frames"
   ]
  },
  {
   "cell_type": "code",
   "execution_count": 58,
   "id": "7e3fd5be",
   "metadata": {},
   "outputs": [],
   "source": [
    "df_concatenated = pd.concat([df_0, df_downsampled]).reset_index(drop=True)\n",
    "df=df_concatenated"
   ]
  },
  {
   "cell_type": "code",
   "execution_count": 59,
   "id": "f4b6d3d1",
   "metadata": {},
   "outputs": [],
   "source": [
    "#check"
   ]
  },
  {
   "cell_type": "code",
   "execution_count": 60,
   "id": "83fd48c2",
   "metadata": {},
   "outputs": [
    {
     "data": {
      "text/html": [
       "<div>\n",
       "<style scoped>\n",
       "    .dataframe tbody tr th:only-of-type {\n",
       "        vertical-align: middle;\n",
       "    }\n",
       "\n",
       "    .dataframe tbody tr th {\n",
       "        vertical-align: top;\n",
       "    }\n",
       "\n",
       "    .dataframe thead th {\n",
       "        text-align: right;\n",
       "    }\n",
       "</style>\n",
       "<table border=\"1\" class=\"dataframe\">\n",
       "  <thead>\n",
       "    <tr style=\"text-align: right;\">\n",
       "      <th></th>\n",
       "      <th>text</th>\n",
       "      <th>label</th>\n",
       "    </tr>\n",
       "  </thead>\n",
       "  <tbody>\n",
       "    <tr>\n",
       "      <th>0</th>\n",
       "      <td>so i come here on my birthday thinking its the...</td>\n",
       "      <td>0</td>\n",
       "    </tr>\n",
       "    <tr>\n",
       "      <th>1</th>\n",
       "      <td>what a money pit food was terrible and not lab...</td>\n",
       "      <td>0</td>\n",
       "    </tr>\n",
       "    <tr>\n",
       "      <th>2</th>\n",
       "      <td>came for lunch even though we had a vip line p...</td>\n",
       "      <td>0</td>\n",
       "    </tr>\n",
       "    <tr>\n",
       "      <th>3</th>\n",
       "      <td>was a great buffet  years ago but not the same...</td>\n",
       "      <td>0</td>\n",
       "    </tr>\n",
       "    <tr>\n",
       "      <th>4</th>\n",
       "      <td>should have listened to our friends and go els...</td>\n",
       "      <td>0</td>\n",
       "    </tr>\n",
       "  </tbody>\n",
       "</table>\n",
       "</div>"
      ],
      "text/plain": [
       "                                                text  label\n",
       "0  so i come here on my birthday thinking its the...      0\n",
       "1  what a money pit food was terrible and not lab...      0\n",
       "2  came for lunch even though we had a vip line p...      0\n",
       "3  was a great buffet  years ago but not the same...      0\n",
       "4  should have listened to our friends and go els...      0"
      ]
     },
     "execution_count": 60,
     "metadata": {},
     "output_type": "execute_result"
    }
   ],
   "source": [
    "df.head()"
   ]
  },
  {
   "cell_type": "code",
   "execution_count": 61,
   "id": "b7524e3e",
   "metadata": {},
   "outputs": [],
   "source": [
    "# x y split"
   ]
  },
  {
   "cell_type": "code",
   "execution_count": 63,
   "id": "4daad2b3",
   "metadata": {},
   "outputs": [],
   "source": [
    "x=df[\"text\"]\n",
    "y=df[\"label\"]"
   ]
  },
  {
   "cell_type": "code",
   "execution_count": 64,
   "id": "a029d9ea",
   "metadata": {},
   "outputs": [],
   "source": [
    "# vectorizing"
   ]
  },
  {
   "cell_type": "code",
   "execution_count": 67,
   "id": "7a67fd38",
   "metadata": {},
   "outputs": [],
   "source": [
    "vect=CountVectorizer(stop_words=\"english\")\n",
    "x=vect.fit_transform(x)"
   ]
  },
  {
   "cell_type": "code",
   "execution_count": 68,
   "id": "a617955a",
   "metadata": {},
   "outputs": [],
   "source": [
    "# train test split"
   ]
  },
  {
   "cell_type": "code",
   "execution_count": 69,
   "id": "3afbe030",
   "metadata": {},
   "outputs": [],
   "source": [
    "x_train,x_test,y_train,y_test=train_test_split(x,y,test_size=.20,random_state=42)"
   ]
  },
  {
   "cell_type": "code",
   "execution_count": 71,
   "id": "dfd2e97c",
   "metadata": {},
   "outputs": [],
   "source": [
    "# model"
   ]
  },
  {
   "cell_type": "code",
   "execution_count": 72,
   "id": "6c9ce6fe",
   "metadata": {},
   "outputs": [],
   "source": [
    "from sklearn.svm import SVC\n",
    "s=SVC()"
   ]
  },
  {
   "cell_type": "code",
   "execution_count": 73,
   "id": "28c54982",
   "metadata": {},
   "outputs": [],
   "source": [
    "model = s.fit(x_train, y_train)"
   ]
  },
  {
   "cell_type": "code",
   "execution_count": 74,
   "id": "4e41b0a3",
   "metadata": {},
   "outputs": [],
   "source": [
    "#make predictions"
   ]
  },
  {
   "cell_type": "code",
   "execution_count": 75,
   "id": "5b0d2e1b",
   "metadata": {},
   "outputs": [],
   "source": [
    "predictions=model.predict(x_test)"
   ]
  },
  {
   "cell_type": "code",
   "execution_count": 76,
   "id": "9f7441be",
   "metadata": {},
   "outputs": [],
   "source": [
    "# model accuracy"
   ]
  },
  {
   "cell_type": "code",
   "execution_count": 77,
   "id": "d2934ce7",
   "metadata": {},
   "outputs": [
    {
     "data": {
      "text/plain": [
       "0.859375"
      ]
     },
     "execution_count": 77,
     "metadata": {},
     "output_type": "execute_result"
    }
   ],
   "source": [
    "accuracy_score(predictions,y_test)"
   ]
  },
  {
   "cell_type": "code",
   "execution_count": 78,
   "id": "d56dad61",
   "metadata": {},
   "outputs": [],
   "source": [
    "#save model"
   ]
  },
  {
   "cell_type": "code",
   "execution_count": 79,
   "id": "52d6bab5",
   "metadata": {},
   "outputs": [],
   "source": [
    "import joblib"
   ]
  },
  {
   "cell_type": "code",
   "execution_count": 80,
   "id": "2223ca8d",
   "metadata": {},
   "outputs": [
    {
     "data": {
      "text/plain": [
       "['sentiment_analysis.joblib']"
      ]
     },
     "execution_count": 80,
     "metadata": {},
     "output_type": "execute_result"
    }
   ],
   "source": [
    "joblib.dump(model,\"sentiment_analysis.joblib\")"
   ]
  },
  {
   "cell_type": "code",
   "execution_count": 81,
   "id": "b2b24430",
   "metadata": {},
   "outputs": [],
   "source": [
    "# sources"
   ]
  },
  {
   "cell_type": "markdown",
   "id": "32bf4745",
   "metadata": {},
   "source": [
    "-Zafer Acar Notes\n",
    "-[https://poe.com/chat/2rhcfi4djoj4u359vfr]"
   ]
  }
 ],
 "metadata": {
  "kernelspec": {
   "display_name": "Python 3 (ipykernel)",
   "language": "python",
   "name": "python3"
  },
  "language_info": {
   "codemirror_mode": {
    "name": "ipython",
    "version": 3
   },
   "file_extension": ".py",
   "mimetype": "text/x-python",
   "name": "python",
   "nbconvert_exporter": "python",
   "pygments_lexer": "ipython3",
   "version": "3.9.13"
  }
 },
 "nbformat": 4,
 "nbformat_minor": 5
}
